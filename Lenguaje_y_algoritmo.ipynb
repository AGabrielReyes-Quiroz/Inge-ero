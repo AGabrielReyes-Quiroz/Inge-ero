{
  "nbformat": 4,
  "nbformat_minor": 0,
  "metadata": {
    "colab": {
      "provenance": [],
      "authorship_tag": "ABX9TyNUYiWTiAI8/ZRQpzM4ji3h",
      "include_colab_link": true
    },
    "kernelspec": {
      "name": "python3",
      "display_name": "Python 3"
    },
    "language_info": {
      "name": "python"
    }
  },
  "cells": [
    {
      "cell_type": "markdown",
      "metadata": {
        "id": "view-in-github",
        "colab_type": "text"
      },
      "source": [
        "<a href=\"https://colab.research.google.com/github/AGabrielReyes-Quiroz/Inge-ero/blob/main/Lenguaje_y_algoritmo.ipynb\" target=\"_parent\"><img src=\"https://colab.research.google.com/assets/colab-badge.svg\" alt=\"Open In Colab\"/></a>"
      ]
    },
    {
      "cell_type": "markdown",
      "source": [
        "**Lenguaje y Algoritmo.**\n",
        "\n",
        "Lenguajes de programación:\n",
        "\n",
        "*   C\n",
        "*   C++\n",
        "*   Java\n",
        "*   Fortram\n",
        "*   Delphi\n",
        "\n",
        "**Algoritmo**\n",
        "Conjunto de pasos, procedimientos o acciones que nos permite alcanzar un resultado o resolver un problema.\n",
        "\n",
        "Caracteristicas:\n",
        "\n",
        "Determinismo: En ciencias de la computación, un algoritmo determinista es un algoritmo que, en términos informales, es completamente predictivo si se conocen sus entradas. Dicho de otra forma, si se conocen las entradas del algoritmo siempre producirá la misma salida, y la máquina interna pasará por la misma secuencia de estados.\n",
        "\n",
        "Precisión:\n",
        "\n",
        "Finitud:\n",
        "\n",
        "(cairó et al.,1993)\n",
        "  \n",
        "**Datos**\n",
        "Valores enteros y valores reales.\n",
        "\n",
        "Valores enteros Preceden del signo \"+\" o \"-\"\n",
        "\n",
        "128 152s- 174 8 538 -14 789 -7.5 128.8 -37.805 19\n",
        "\n",
        "**Datos alfanumericos**\n",
        "\n",
        "*Caracter\n",
        "\n",
        "*Cadena\n",
        "\n",
        "(a, b, c...)\n",
        "\n",
        "\n",
        "(0,1,2,3...9)\n",
        "\n",
        "(\", #, %, $)\n",
        "\n",
        "'9'  'a'  '$'\n",
        "\n",
        "\"abc\" \"$987\" \"Heeeectoooor\" \"Patroclo!!\" \"754-27-22\"\n",
        "\n",
        "**datos lógicos**\n",
        "\n",
        "Boleanos\n",
        "\n",
        "Verdadero (true)\n",
        "Falso (false)\n",
        "\n",
        "\n",
        "\n",
        "\n",
        "\n",
        "\n",
        "\n",
        "\n",
        "\n"
      ],
      "metadata": {
        "id": "VHzN6EYSBeHm"
      }
    },
    {
      "cell_type": "code",
      "source": [
        "#Tipos de variable en pythom\n",
        "#El tipo de variable estará determinadopor el tipo de dato que almacena\n",
        "#Enteros, Basta agregar un valor entero\n",
        "a=10\n",
        "b=11\n",
        "c=a+b\n",
        "print(c)\n",
        "\n",
        "#Decimales: deben agrerse un número con punto flotante\n",
        "c=3.1416\n",
        "print(c)\n",
        "\n",
        "#Boleanos: Datos con verdadero o falso\n",
        "#Se pueden usar palabras\n",
        "verdad = True\n",
        "falso = False\n",
        "Verdad = 1\n",
        "Falso = 0\n",
        "#falso o cadena o string\n",
        "saludo = \"Hola mundo\"\n",
        "nombre = \"Juan\"\n",
        "\n",
        "uno = 'a'\n",
        "dos = 'b'\n",
        "print(a)\n",
        "print(b)\n",
        "print(c)\n",
        "print(Verdad)\n",
        "print(Falso)\n",
        "print(falso)\n",
        "print(verdad)\n",
        "print(saludo)\n",
        "print(nombre)\n",
        "print(uno)\n",
        "print(dos)"
      ],
      "metadata": {
        "colab": {
          "base_uri": "https://localhost:8080/"
        },
        "id": "3Qo_S67sMD2Z",
        "outputId": "e2cd3e03-2810-489c-c43d-f2aa2091f65c"
      },
      "execution_count": 8,
      "outputs": [
        {
          "output_type": "stream",
          "name": "stdout",
          "text": [
            "21\n",
            "3.1416\n",
            "10\n",
            "11\n",
            "3.1416\n",
            "1\n",
            "0\n",
            "False\n",
            "True\n",
            "Hola mundo\n",
            "Juan\n",
            "a\n",
            "b\n"
          ]
        }
      ]
    }
  ]
}